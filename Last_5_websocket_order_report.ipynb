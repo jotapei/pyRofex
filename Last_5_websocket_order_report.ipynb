{
  "nbformat": 4,
  "nbformat_minor": 0,
  "metadata": {
    "colab": {
      "provenance": [],
      "authorship_tag": "ABX9TyPfhKf/zB0s8M4khBmvVKUP",
      "include_colab_link": true
    },
    "kernelspec": {
      "name": "python3",
      "display_name": "Python 3"
    },
    "language_info": {
      "name": "python"
    }
  },
  "cells": [
    {
      "cell_type": "markdown",
      "metadata": {
        "id": "view-in-github",
        "colab_type": "text"
      },
      "source": [
        "<a href=\"https://colab.research.google.com/github/jotapei/pyRofex/blob/master/Last_5_websocket_order_report.ipynb\" target=\"_parent\"><img src=\"https://colab.research.google.com/assets/colab-badge.svg\" alt=\"Open In Colab\"/></a>"
      ]
    },
    {
      "cell_type": "code",
      "execution_count": null,
      "metadata": {
        "id": "S0RCd9HMTIjf"
      },
      "outputs": [],
      "source": [
        "# Install the pyRofex library\n",
        "!pip install pyRofex"
      ]
    },
    {
      "cell_type": "markdown",
      "source": [],
      "metadata": {
        "id": "PD_DSR4YToKb"
      }
    },
    {
      "cell_type": "code",
      "source": [
        "# Install the pyRofex library\n",
        "#!pip install pyRofex\n",
        "\n",
        "import time\n",
        "import pyRofex\n",
        "\n",
        "# Initialize the environment with your credentials\n",
        "pyRofex.initialize(user=\"jepi819416\",\n",
        "                   password=\"ejfklA0_\",\n",
        "                   account=\"REM9416\",\n",
        "                   environment=pyRofex.Environment.REMARKET)\n",
        "\n",
        "# Define the handlers to process the messages and exceptions\n",
        "def order_report_handler(message):\n",
        "    print(\"Order Report Message Received: {0}\".format(message))\n",
        "\n",
        "def error_handler(message):\n",
        "    print(\"Error Message Received: {0}\".format(message))\n",
        "\n",
        "def exception_handler(e):\n",
        "    print(\"Exception Occurred: {0}\".format(e.msg))\n",
        "\n",
        "# Initialize WebSocket Connection with the handlers\n",
        "pyRofex.init_websocket_connection(order_report_handler=order_report_handler,\n",
        "                                  error_handler=error_handler,\n",
        "                                  exception_handler=exception_handler)\n",
        "\n",
        "# Subscribe to receive order report for the default account\n",
        "pyRofex.order_report_subscription()\n",
        "\n",
        "# Subscribe to an invalid account (demonstrates error handling)\n",
        "pyRofex.order_report_subscription(account=\"InvalidAccount\")\n",
        "\n",
        "# Send an order to check that order_report_handler is called\n",
        "# Note: Replace 'DLR/ENE24' with a valid ticker if necessary\n",
        "pyRofex.send_order(ticker=\"DLR/ENE24\",\n",
        "                   side=pyRofex.Side.BUY,\n",
        "                   size=10,\n",
        "                   order_type=pyRofex.OrderType.MARKET)\n",
        "\n",
        "# Wait for a short period to allow message processing\n",
        "time.sleep(5)\n",
        "\n",
        "# Close the WebSocket connection\n",
        "pyRofex.close_websocket_connection()"
      ],
      "metadata": {
        "colab": {
          "base_uri": "https://localhost:8080/"
        },
        "id": "bbe7YR6NToZN",
        "outputId": "8abdc1d3-c6fd-4071-9e9c-eb9b85d798dc"
      },
      "execution_count": 4,
      "outputs": [
        {
          "output_type": "stream",
          "name": "stdout",
          "text": [
            "Error Message Received: {'status': 'ERROR', 'message': '{\"type\":\"os\",\"account\":{\"id\":\"InvalidAccount\"},\"snapshotOnlyActive\":true}', 'description': 'No tiene acceso a la cuenta InvalidAccount'}\n",
            "Order Report Message Received: {'type': 'or', 'timestamp': 1704167884234, 'orderReport': {'orderId': None, 'clOrdId': '442727884038442', 'proprietary': 'PBCP', 'accountId': {'id': 'REM9416'}, 'instrumentId': {'marketId': 'ROFX', 'symbol': 'DLR/ENE24'}, 'price': None, 'orderQty': 10, 'ordType': 'MARKET', 'side': 'BUY', 'timeInForce': 'DAY', 'transactTime': '20240102-00:58:04.234-0300', 'status': 'PENDING_NEW', 'text': 'Enviada'}}\n",
            "Order Report Message Received: {'type': 'or', 'timestamp': 1704167884255, 'orderReport': {'orderId': 'NONE', 'clOrdId': '442727884038442', 'proprietary': 'PBCP', 'execId': '240101074637-fix1-1319', 'accountId': {'id': 'REM9416'}, 'instrumentId': {'marketId': 'ROFX', 'symbol': 'DLR/ENE24'}, 'price': None, 'orderQty': 10, 'ordType': 'MARKET', 'side': 'BUY', 'timeInForce': 'DAY', 'transactTime': '20240102-00:58:04.253-0300', 'avgPx': 0, 'cumQty': 0, 'leavesQty': 0, 'status': 'REJECTED', 'text': 'No se puede calcular un precio para la orden market', 'originatingUsername': 'PBCP'}}\n"
          ]
        }
      ]
    }
  ]
}